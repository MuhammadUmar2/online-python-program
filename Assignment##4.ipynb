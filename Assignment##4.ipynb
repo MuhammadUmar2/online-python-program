{
 "cells": [
  {
   "cell_type": "code",
   "execution_count": null,
   "id": "b8545a2f",
   "metadata": {},
   "outputs": [
    {
     "name": "stdout",
     "output_type": "stream",
     "text": [
      "1 Addition\n",
      "2 Subtraction\n",
      "3 Division\n",
      "4 Multiplication\n",
      "5 Power\n"
     ]
    }
   ],
   "source": [
    "# Question#1\n",
    "\n",
    "\n",
    "print(\"1 Addition\")\n",
    "print(\"2 Subtraction\")\n",
    "print(\"3 Division\")\n",
    "print(\"4 Multiplication\")\n",
    "print(\"5 Power\")\n",
    "\n",
    "\n",
    "choice =input(\"Enter your choice \")\n",
    "\n",
    "num1=int(input(\"Enter Number 1:\"))\n",
    "num2=int(input(\"Enter Number 2:\"))\n",
    "\n",
    "if choice == \"1\": \n",
    "    print(num1+num2)\n",
    "if choice == \"2\": \n",
    "    print(num1-num2)\n",
    "if choice == \"3\": \n",
    "    print(num1/num2)\n",
    "    if num2==0:\n",
    "        print(\"Divide by 0 Error\")\n",
    "if choice == \"4\": \n",
    "    print(num1*num2)\n",
    "if choice == \"5\": \n",
    "      print(num1**num2)\n"
   ]
  },
  {
   "cell_type": "markdown",
   "id": "f6d669ae",
   "metadata": {},
   "source": [
    "### OR "
   ]
  },
  {
   "cell_type": "code",
   "execution_count": 1,
   "id": "0be1aa72",
   "metadata": {},
   "outputs": [
    {
     "name": "stdout",
     "output_type": "stream",
     "text": [
      "Enter your first number 5\n",
      "Enter your second number 6\n",
      "Enter your operator*\n",
      "30\n"
     ]
    }
   ],
   "source": [
    "def add(a,b):\n",
    "    result=a+b\n",
    "    print(result)\n",
    "def mult(a,b):\n",
    "    result=a*b \n",
    "    print(result)\n",
    "def div(a,b):\n",
    "    result=a/b\n",
    "    print(result)\n",
    "def sub(a,b):\n",
    "    result=a-b\n",
    "    print(result)\n",
    "def power(a,b):\n",
    "    result=a**b\n",
    "    print(result)\n",
    "\n",
    "a=int(input(\"Enter your first number \"))\n",
    "b=int(input(\"Enter your second number \"))\n",
    "op=input(\"Enter your operator\")    \n",
    "\n",
    "if op==\"+\":\n",
    "    add(a,b)\n",
    "elif op==\"-\":\n",
    "    sub(a,b)\n",
    "elif op==\"*\":\n",
    "    mult(a,b)\n",
    "elif op==\"/\":\n",
    "    div(a,b)\n",
    "elif op==\"**\":\n",
    "    power(a,b)  \n",
    "else:\n",
    "    print(\"Invalid operator\")"
   ]
  },
  {
   "cell_type": "markdown",
   "id": "8f6364ce",
   "metadata": {},
   "source": [
    "# # Question#2\n"
   ]
  },
  {
   "cell_type": "code",
   "execution_count": 5,
   "id": "e72ddc4c",
   "metadata": {},
   "outputs": [
    {
     "name": "stdout",
     "output_type": "stream",
     "text": [
      "11\n",
      "43\n",
      "54\n",
      "54\n"
     ]
    }
   ],
   "source": [
    "lst = [11, 34.1, 98.2, 43, 45.1, 54, 54]\n",
    "\n",
    "for i in lst:\n",
    "    if int(i)==i:\n",
    "        print(i)"
   ]
  },
  {
   "cell_type": "markdown",
   "id": "dae8720f",
   "metadata": {},
   "source": [
    "# Question#3"
   ]
  },
  {
   "cell_type": "code",
   "execution_count": 6,
   "id": "b3c5dd7b",
   "metadata": {},
   "outputs": [
    {
     "name": "stdout",
     "output_type": "stream",
     "text": [
      "{0: 10, 1: 20, 3: 30, 4: 45}\n"
     ]
    }
   ],
   "source": [
    "d={0:10,1:20,3:30,4:45}\n",
    "print(d)"
   ]
  },
  {
   "cell_type": "code",
   "execution_count": 7,
   "id": "53e6a5a7",
   "metadata": {},
   "outputs": [
    {
     "name": "stdout",
     "output_type": "stream",
     "text": [
      "{0: 10, 1: 20, 3: 30, 4: 50}\n"
     ]
    }
   ],
   "source": [
    "d.update({4:50})\n",
    "print(d)"
   ]
  },
  {
   "cell_type": "markdown",
   "id": "53f80a30",
   "metadata": {},
   "source": [
    "# Question#4"
   ]
  },
  {
   "cell_type": "code",
   "execution_count": 8,
   "id": "ef714625",
   "metadata": {},
   "outputs": [
    {
     "name": "stdout",
     "output_type": "stream",
     "text": [
      "1200\n"
     ]
    }
   ],
   "source": [
    "dict={'omar' : 100,'ali':600,'samed':500}\n",
    "print(sum(dict.values()))"
   ]
  },
  {
   "cell_type": "markdown",
   "id": "4ed73b28",
   "metadata": {},
   "source": [
    "# Question#5"
   ]
  },
  {
   "cell_type": "code",
   "execution_count": 5,
   "id": "d97894dd",
   "metadata": {},
   "outputs": [
    {
     "name": "stdout",
     "output_type": "stream",
     "text": [
      "2 3 4 5 "
     ]
    }
   ],
   "source": [
    "l=[1,2,3,4,5,2,3,4,7,9,5]\n",
    "l1=[]\n",
    "for i in l:\n",
    "    if i not in l1:\n",
    "        l1.append(i)\n",
    "    else:\n",
    "        print(i,end=' ')\n",
    "        "
   ]
  },
  {
   "cell_type": "markdown",
   "id": "872e0286",
   "metadata": {},
   "source": [
    "# Question#6"
   ]
  },
  {
   "cell_type": "code",
   "execution_count": 9,
   "id": "c31d109a",
   "metadata": {},
   "outputs": [
    {
     "name": "stdout",
     "output_type": "stream",
     "text": [
      "The given dictionary :  {'Mon': 3, 'Tue': 5, 'Wed': 6, 'Thu': 9}\n",
      "Fri  is not Present.\n"
     ]
    }
   ],
   "source": [
    "Adict = {'Mon':3,'Tue':5,'Wed':6,'Thu':9}\n",
    "print(\"The given dictionary : \",Adict)\n",
    "check_key = \"Fri\"\n",
    "if check_key in Adict:\n",
    "       print(check_key,\"is Present.\")\n",
    "else:\n",
    "       print(check_key, \" is not Present.\")"
   ]
  },
  {
   "cell_type": "code",
   "execution_count": null,
   "id": "d7044786",
   "metadata": {},
   "outputs": [],
   "source": []
  }
 ],
 "metadata": {
  "kernelspec": {
   "display_name": "Python 3",
   "language": "python",
   "name": "python3"
  },
  "language_info": {
   "codemirror_mode": {
    "name": "ipython",
    "version": 3
   },
   "file_extension": ".py",
   "mimetype": "text/x-python",
   "name": "python",
   "nbconvert_exporter": "python",
   "pygments_lexer": "ipython3",
   "version": "3.8.8"
  }
 },
 "nbformat": 4,
 "nbformat_minor": 5
}
