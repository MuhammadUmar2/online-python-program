{
 "cells": [
  {
   "cell_type": "code",
   "execution_count": null,
   "id": "ee631b04",
   "metadata": {},
   "outputs": [],
   "source": []
  },
  {
   "cell_type": "code",
   "execution_count": 2,
   "id": "30ea2060",
   "metadata": {},
   "outputs": [],
   "source": []
  },
  {
   "cell_type": "code",
   "execution_count": null,
   "id": "d40615c5",
   "metadata": {},
   "outputs": [],
   "source": []
  },
  {
   "cell_type": "code",
   "execution_count": null,
   "id": "3efae36a",
   "metadata": {},
   "outputs": [],
   "source": []
  },
  {
   "cell_type": "code",
   "execution_count": 9,
   "id": "c96e7c3a",
   "metadata": {},
   "outputs": [
    {
     "name": "stdout",
     "output_type": "stream",
     "text": [
      "Marksheet\n",
      "Umar Hasan\n",
      "Total obtained marks = 278 out of 300\n",
      "Percentage = 92.66666666666666\n",
      "Grade A+\n"
     ]
    }
   ],
   "source": [
    "print(\"Marksheet\")\n",
    "print(\"Umar Hasan\")\n",
    "\n",
    "eng_marks = 90\n",
    "isl_marks = 89\n",
    "maths_marks =99\n",
    "total_marks = 300\n",
    "\n",
    "\n",
    "obtained_marks = eng_marks + isl_marks + maths_marks\n",
    "print(\"Total obtained marks =\" ,obtained_marks, \"out of 300\")\n",
    "\n",
    "percentage = (obtained_marks / total_marks * 100 )\n",
    "print(\"Percentage =\" , Percentage)\n",
    "\n",
    "if percentage < 100 and percentage > 80:\n",
    "    print(\"Grade A+\")\n",
    "    \n",
    "elif percentage < 80 and percentage > 70:\n",
    "    print(\"Grade A\")\n",
    "elif percentage < 70 and percentage > 60:\n",
    "    print(\"Grade B\")\n",
    "elif percentage < 60 and percentage >50:   \n",
    "    print(\"Grade C\") \n",
    "elif percentage < 50 and percentage > 40:\n",
    "    print(\"Grade D\")\n",
    "else:\n",
    "    print(\"Fail\")"
   ]
  },
  {
   "cell_type": "code",
   "execution_count": null,
   "id": "2ad363e6",
   "metadata": {},
   "outputs": [],
   "source": []
  }
 ],
 "metadata": {
  "kernelspec": {
   "display_name": "Python 3",
   "language": "python",
   "name": "python3"
  },
  "language_info": {
   "codemirror_mode": {
    "name": "ipython",
    "version": 3
   },
   "file_extension": ".py",
   "mimetype": "text/x-python",
   "name": "python",
   "nbconvert_exporter": "python",
   "pygments_lexer": "ipython3",
   "version": "3.8.8"
  }
 },
 "nbformat": 4,
 "nbformat_minor": 5
}
