{
 "cells": [
  {
   "cell_type": "code",
   "execution_count": 4,
   "id": "730da23c",
   "metadata": {},
   "outputs": [
    {
     "name": "stdout",
     "output_type": "stream",
     "text": [
      "kai mai soya nh hn raat bhar mujhe mat satao\n",
      " arey yar apni maa mat chudao\n"
     ]
    }
   ],
   "source": [
    "print(\"kai mai soya nh hn raat bhar mujhe mat satao\\n arey yar apni maa mat chudao\")"
   ]
  },
  {
   "cell_type": "code",
   "execution_count": 17,
   "id": "65221df9",
   "metadata": {},
   "outputs": [
    {
     "name": "stdout",
     "output_type": "stream",
     "text": [
      "Enter English Marks95\n",
      "Enter IsL Marks98\n",
      "Enter Maths Marks92\n",
      "A+\n"
     ]
    }
   ],
   "source": [
    "eng=int(input('Enter English Marks'))\n",
    "isl=int(input('Enter IsL Marks'))\n",
    "maths=int(input('Enter Maths Marks'))\n",
    "total=300\n",
    "percent=(eng+isl+maths)/total*100\n",
    "if percent <100 and percent >=80:\n",
    "    print(\"A+\")\n",
    "if percent <80 and percent >=70:\n",
    "    print(\"A\")        \n",
    "if percent <70 and percent >=60:\n",
    "    print(\"B\")\n",
    "if percent <60 and percent >=50:\n",
    "    print(\"C\")\n",
    "if percent <50 and percent >=40:\n",
    "    print(\"D\")    \n",
    "if percent <40 and percent >=33:\n",
    "    print(\"E\")\n",
    "elif percent < 0 and percent > 100:\n",
    "    print(\"you didnot write the correct percentage\")\n"
   ]
  },
  {
   "cell_type": "code",
   "execution_count": 15,
   "id": "0f47c750",
   "metadata": {},
   "outputs": [
    {
     "name": "stdout",
     "output_type": "stream",
     "text": [
      "enter a value25\n",
      "54\n"
     ]
    }
   ],
   "source": [
    "x = int(input('enter a value'))\n",
    "y = 29\n",
    "z=x+y\n",
    "print(z)"
   ]
  },
  {
   "cell_type": "code",
   "execution_count": 18,
   "id": "20c7dd85",
   "metadata": {},
   "outputs": [
    {
     "data": {
      "text/plain": [
       "64"
      ]
     },
     "execution_count": 18,
     "metadata": {},
     "output_type": "execute_result"
    }
   ],
   "source": [
    "a=8**2\n",
    "a"
   ]
  },
  {
   "cell_type": "code",
   "execution_count": 3,
   "id": "09e6ea93",
   "metadata": {},
   "outputs": [
    {
     "name": "stdout",
     "output_type": "stream",
     "text": [
      "kai mai soya nh hn raat bhar mujhe mat satao\n",
      " arey yar apni maa mat chudao\n"
     ]
    }
   ],
   "source": [
    "print(\"kai mai soya nh hn raat bhar mujhe mat satao\\n arey yar apni maa mat chudao\")"
   ]
  },
  {
   "cell_type": "code",
   "execution_count": 2,
   "id": "7a225b9e",
   "metadata": {},
   "outputs": [
    {
     "name": "stdout",
     "output_type": "stream",
     "text": [
      "bonjour\n"
     ]
    },
    {
     "data": {
      "text/plain": [
       "<function print>"
      ]
     },
     "execution_count": 2,
     "metadata": {},
     "output_type": "execute_result"
    }
   ],
   "source": [
    "print(\"bonjour\")\n",
    "print\n"
   ]
  },
  {
   "cell_type": "code",
   "execution_count": null,
   "id": "4e07da6b",
   "metadata": {},
   "outputs": [],
   "source": []
  }
 ],
 "metadata": {
  "kernelspec": {
   "display_name": "Python 3",
   "language": "python",
   "name": "python3"
  },
  "language_info": {
   "codemirror_mode": {
    "name": "ipython",
    "version": 3
   },
   "file_extension": ".py",
   "mimetype": "text/x-python",
   "name": "python",
   "nbconvert_exporter": "python",
   "pygments_lexer": "ipython3",
   "version": "3.8.8"
  }
 },
 "nbformat": 4,
 "nbformat_minor": 5
}
