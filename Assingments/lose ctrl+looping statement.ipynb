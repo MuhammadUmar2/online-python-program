{
 "cells": [
  {
   "cell_type": "code",
   "execution_count": 1,
   "id": "4138d8a6",
   "metadata": {},
   "outputs": [],
   "source": [
    "a=10\n",
    "b=20\n",
    "c=30"
   ]
  },
  {
   "cell_type": "code",
   "execution_count": 6,
   "id": "f101bf17",
   "metadata": {},
   "outputs": [
    {
     "name": "stdout",
     "output_type": "stream",
     "text": [
      "C is greater\n"
     ]
    }
   ],
   "source": [
    "if (a>b) & (a>c):\n",
    "        print('A is greater')\n",
    "elif (b>a) & (b>c):\n",
    "        print('b is greater')\n",
    "else:\n",
    "        print('C is greater')\n",
    "    "
   ]
  },
  {
   "cell_type": "code",
   "execution_count": 7,
   "id": "224726e3",
   "metadata": {},
   "outputs": [],
   "source": [
    "tup1 = ('a','b','c','d')"
   ]
  },
  {
   "cell_type": "code",
   "execution_count": 14,
   "id": "eedda9ee",
   "metadata": {},
   "outputs": [
    {
     "name": "stdout",
     "output_type": "stream",
     "text": [
      "value f is not preasent in tup1\n"
     ]
    }
   ],
   "source": [
    "if 'f' in tup1:\n",
    "    print('value b is  preasent in tup1')\n",
    "else:\n",
    "    print('value f is not preasent in tup1')"
   ]
  },
  {
   "cell_type": "code",
   "execution_count": 15,
   "id": "f1bb20bd",
   "metadata": {},
   "outputs": [],
   "source": [
    "l1 = ['a','b','c']"
   ]
  },
  {
   "cell_type": "code",
   "execution_count": 16,
   "id": "9e05804c",
   "metadata": {},
   "outputs": [],
   "source": [
    "if l1[1]=='b':\n",
    "    l1[1]='z'\n",
    "    "
   ]
  },
  {
   "cell_type": "code",
   "execution_count": 17,
   "id": "9b1c89fd",
   "metadata": {},
   "outputs": [
    {
     "data": {
      "text/plain": [
       "['a', 'z', 'c']"
      ]
     },
     "execution_count": 17,
     "metadata": {},
     "output_type": "execute_result"
    }
   ],
   "source": [
    "l1"
   ]
  },
  {
   "cell_type": "code",
   "execution_count": 18,
   "id": "963ac25d",
   "metadata": {},
   "outputs": [],
   "source": [
    "l3=['55','78','98','ab']"
   ]
  },
  {
   "cell_type": "code",
   "execution_count": 20,
   "id": "118b4c88",
   "metadata": {},
   "outputs": [],
   "source": [
    "if l3[3]=='ab':\n",
    "    l3[3]= 'ba'"
   ]
  },
  {
   "cell_type": "code",
   "execution_count": 21,
   "id": "ea795bb6",
   "metadata": {},
   "outputs": [
    {
     "data": {
      "text/plain": [
       "['55', '78', '98', 'ba']"
      ]
     },
     "execution_count": 21,
     "metadata": {},
     "output_type": "execute_result"
    }
   ],
   "source": [
    "l3"
   ]
  },
  {
   "cell_type": "code",
   "execution_count": 1,
   "id": "b4287a3a",
   "metadata": {},
   "outputs": [
    {
     "name": "stdout",
     "output_type": "stream",
     "text": [
      "1\n",
      "2\n",
      "3\n",
      "4\n",
      "5\n",
      "6\n",
      "7\n",
      "8\n",
      "9\n",
      "10\n",
      "11\n",
      "12\n",
      "13\n",
      "14\n",
      "15\n",
      "16\n",
      "17\n",
      "18\n",
      "19\n",
      "20\n"
     ]
    }
   ],
   "source": [
    "i=1\n",
    "while i<=20:\n",
    "    print(i)\n",
    "    i=i+1"
   ]
  },
  {
   "cell_type": "code",
   "execution_count": 34,
   "id": "89f1ced3",
   "metadata": {},
   "outputs": [
    {
     "name": "stdout",
     "output_type": "stream",
     "text": [
      "3 * 1 = 3\n",
      "3 * 2 = 6\n",
      "3 * 3 = 9\n",
      "3 * 4 = 12\n",
      "3 * 5 = 15\n",
      "3 * 6 = 18\n",
      "3 * 7 = 21\n",
      "3 * 8 = 24\n",
      "3 * 9 = 27\n",
      "3 * 10 = 30\n",
      "3 * 11 = 33\n",
      "3 * 12 = 36\n",
      "3 * 13 = 39\n",
      "3 * 14 = 42\n",
      "3 * 15 = 45\n",
      "3 * 16 = 48\n",
      "3 * 17 = 51\n",
      "3 * 18 = 54\n",
      "3 * 19 = 57\n",
      "3 * 20 = 60\n"
     ]
    }
   ],
   "source": [
    "i=1\n",
    "n=3\n",
    "while i<=20:\n",
    "    print(n, \"*\" , i , \"=\" , n*i)\n",
    "    i = i + 1"
   ]
  },
  {
   "cell_type": "code",
   "execution_count": 15,
   "id": "1944c61f",
   "metadata": {},
   "outputs": [],
   "source": [
    "#adding haundrerd in individual value by loop"
   ]
  },
  {
   "cell_type": "code",
   "execution_count": 26,
   "id": "6e963ffc",
   "metadata": {},
   "outputs": [],
   "source": [
    "l1 = [1,2,3,4,5]\n",
    "i = 0\n",
    "while i<len(l1):\n",
    "    l1[i]=l1[i]+100\n",
    "    i=1+i"
   ]
  },
  {
   "cell_type": "code",
   "execution_count": 27,
   "id": "2b877feb",
   "metadata": {},
   "outputs": [
    {
     "data": {
      "text/plain": [
       "[101, 102, 103, 104, 105]"
      ]
     },
     "execution_count": 27,
     "metadata": {},
     "output_type": "execute_result"
    }
   ],
   "source": [
    "l1"
   ]
  },
  {
   "cell_type": "code",
   "execution_count": 31,
   "id": "08c4e358",
   "metadata": {},
   "outputs": [],
   "source": [
    "l1 = [12,34,44,45]\n",
    "i=0\n",
    "while i<len(l1):\n",
    "    l1[i]=l1[i]+200\n",
    "    i=i+1\n",
    "    "
   ]
  },
  {
   "cell_type": "code",
   "execution_count": 35,
   "id": "64754e6f",
   "metadata": {},
   "outputs": [
    {
     "data": {
      "text/plain": [
       "[212, 234, 244, 245]"
      ]
     },
     "execution_count": 35,
     "metadata": {},
     "output_type": "execute_result"
    }
   ],
   "source": [
    "l1"
   ]
  },
  {
   "cell_type": "code",
   "execution_count": 36,
   "id": "b1ff71c6",
   "metadata": {},
   "outputs": [
    {
     "data": {
      "text/plain": [
       "234"
      ]
     },
     "execution_count": 36,
     "metadata": {},
     "output_type": "execute_result"
    }
   ],
   "source": [
    "l1[1]"
   ]
  },
  {
   "cell_type": "code",
   "execution_count": 38,
   "id": "0db330a1",
   "metadata": {},
   "outputs": [],
   "source": [
    "l1[2]=\"244\"\n",
    "l1[2]='144'"
   ]
  },
  {
   "cell_type": "code",
   "execution_count": 39,
   "id": "cec213a6",
   "metadata": {},
   "outputs": [
    {
     "data": {
      "text/plain": [
       "[212, 234, '144', 245]"
      ]
     },
     "execution_count": 39,
     "metadata": {},
     "output_type": "execute_result"
    }
   ],
   "source": [
    "l1"
   ]
  },
  {
   "cell_type": "code",
   "execution_count": 51,
   "id": "133e6a2a",
   "metadata": {},
   "outputs": [
    {
     "data": {
      "text/plain": [
       "[756, 863, 798, 555]"
      ]
     },
     "execution_count": 51,
     "metadata": {},
     "output_type": "execute_result"
    }
   ],
   "source": [
    "l1 =[256,363,298,55]\n",
    "i=0\n",
    "while i<len(l1):\n",
    "    l1[i]=l1[i]+500\n",
    "    i=i+1\n",
    "l1"
   ]
  },
  {
   "cell_type": "code",
   "execution_count": 1,
   "id": "c6e64f62",
   "metadata": {},
   "outputs": [],
   "source": [
    "#For loop"
   ]
  },
  {
   "cell_type": "code",
   "execution_count": 2,
   "id": "186b237c",
   "metadata": {},
   "outputs": [],
   "source": [
    "#individually val ko alag karna"
   ]
  },
  {
   "cell_type": "code",
   "execution_count": 6,
   "id": "818d90eb",
   "metadata": {},
   "outputs": [
    {
     "name": "stdout",
     "output_type": "stream",
     "text": [
      "mango\n",
      "billie\n",
      "meow\n",
      "iglorias\n"
     ]
    }
   ],
   "source": [
    "\n",
    "l1 = ['mango','billie','meow','iglorias']\n",
    "for i in l1:\n",
    "    print(i)"
   ]
  },
  {
   "cell_type": "code",
   "execution_count": 7,
   "id": "786f47bd",
   "metadata": {},
   "outputs": [],
   "source": [
    "#for loop 2 statement"
   ]
  },
  {
   "cell_type": "code",
   "execution_count": 13,
   "id": "a764c8c7",
   "metadata": {},
   "outputs": [
    {
     "name": "stdout",
     "output_type": "stream",
     "text": [
      "Assassins 1\n",
      "Assassins brotherhood\n",
      "Assassins unity\n",
      "Assassins syndicate\n",
      "creed 1\n",
      "creed brotherhood\n",
      "creed unity\n",
      "creed syndicate\n",
      "arno 1\n",
      "arno brotherhood\n",
      "arno unity\n",
      "arno syndicate\n",
      "jacob 1\n",
      "jacob brotherhood\n",
      "jacob unity\n",
      "jacob syndicate\n"
     ]
    }
   ],
   "source": [
    "l1 = ['Assassins','creed','arno','jacob']\n",
    "l2 = ['1','brotherhood','unity','syndicate']\n",
    "for i in l1:\n",
    "    for j in l2:\n",
    "        print(i,j)\n",
    "\n",
    "        "
   ]
  },
  {
   "cell_type": "code",
   "execution_count": 1,
   "id": "0d0d37bd",
   "metadata": {},
   "outputs": [
    {
     "data": {
      "text/plain": [
       "[756, 863, 798, 555]"
      ]
     },
     "execution_count": 1,
     "metadata": {},
     "output_type": "execute_result"
    }
   ],
   "source": [
    "l1 =[256,363,298,55]\n",
    "i=0\n",
    "while i<len(l1):\n",
    "    l1[i]=l1[i]+500\n",
    "    i=i+1\n",
    "l1"
   ]
  },
  {
   "cell_type": "code",
   "execution_count": 6,
   "id": "4ad3f7fb",
   "metadata": {},
   "outputs": [
    {
     "name": "stdout",
     "output_type": "stream",
     "text": [
      "kai mai soya nh hn raat bhar mujhe mat satao \n",
      "n arey yar apni maa mat chudao\n"
     ]
    }
   ],
   "source": [
    "print(\"kai mai soya nh hn raat bhar mujhe mat satao \\nn arey yar apni maa mat chudao\")"
   ]
  },
  {
   "cell_type": "code",
   "execution_count": 2,
   "id": "09623dec",
   "metadata": {},
   "outputs": [],
   "source": [
    "#loop source"
   ]
  },
  {
   "cell_type": "code",
   "execution_count": null,
   "id": "891cc6ab",
   "metadata": {},
   "outputs": [],
   "source": [
    "a=100\n",
    "f=1\n",
    "while(f<=5):\n",
    "    if(f<4):\n",
    "        print(a-f)\n",
    "    else:\n",
    "        print(a+f\n",
    "    f=f+1  \n",
    "        "
   ]
  },
  {
   "cell_type": "code",
   "execution_count": 2,
   "id": "4509a98b",
   "metadata": {},
   "outputs": [
    {
     "name": "stdout",
     "output_type": "stream",
     "text": [
      "105\n"
     ]
    }
   ],
   "source": [
    "f=5\n",
    "a=100\n",
    "while f<=5:\n",
    "    if f<=4:\n",
    "        print(a-f)\n",
    "    else:\n",
    "        print(a+f)\n",
    "    f=f+1\n",
    "        "
   ]
  },
  {
   "cell_type": "code",
   "execution_count": 8,
   "id": "7236ce9b",
   "metadata": {},
   "outputs": [
    {
     "name": "stdout",
     "output_type": "stream",
     "text": [
      "True\n"
     ]
    }
   ],
   "source": [
    "x=10\n",
    "y=12\n",
    "a=30\n",
    "b=8\n",
    "if x+y == a-b:\n",
    "    print(True)\n",
    "else:\n",
    "    print(False)"
   ]
  },
  {
   "cell_type": "code",
   "execution_count": 5,
   "id": "862e49f1",
   "metadata": {},
   "outputs": [
    {
     "name": "stdout",
     "output_type": "stream",
     "text": [
      "Enter age18\n",
      "Enter genderfemale\n",
      "ALLOW\n"
     ]
    }
   ],
   "source": [
    "age=int(input(\"Enter age\"))\n",
    "gender = input(\"Enter gender\")\n",
    "if age >= 18 and gender == \"male\" or \"female\" :\n",
    "    print(\"ALLOW\")\n",
    "else:\n",
    "    print(\"Donot Allow\")"
   ]
  },
  {
   "cell_type": "code",
   "execution_count": 17,
   "id": "776d2eb3",
   "metadata": {},
   "outputs": [],
   "source": [
    "#Capab of lists"
   ]
  },
  {
   "cell_type": "code",
   "execution_count": 18,
   "id": "7854b16e",
   "metadata": {},
   "outputs": [],
   "source": [
    "#Append(darasal yai list mai koi bhi vari add karne kai lye use hota hai)"
   ]
  },
  {
   "cell_type": "code",
   "execution_count": 11,
   "id": "c4351336",
   "metadata": {},
   "outputs": [
    {
     "data": {
      "text/plain": [
       "['Osman', 'Gunduz', 'savci', 'konor', 'kumral']"
      ]
     },
     "execution_count": 11,
     "metadata": {},
     "output_type": "execute_result"
    }
   ],
   "source": []
  },
  {
   "cell_type": "code",
   "execution_count": 12,
   "id": "fbb2e4a0",
   "metadata": {},
   "outputs": [
    {
     "name": "stdout",
     "output_type": "stream",
     "text": [
      "['Ertugrl', 'Gundodo', 'Sungertekin', 'Bamsi', 'Turgut', 'Dogan']\n"
     ]
    }
   ],
   "source": [
    "l2=[\"Ertugrl\",\"Gundodo\",\"Sungertekin\",\"Bamsi\",\"Turgut\"]\n",
    "l2.append(\"Dogan\")\n",
    "print(l2)"
   ]
  },
  {
   "cell_type": "code",
   "execution_count": 14,
   "id": "e3e854e3",
   "metadata": {},
   "outputs": [
    {
     "data": {
      "text/plain": [
       "['Ertugrl', 'Gundodo', 'Sungertekin', 'Bamsi', 'Turgut', 'Dogan']"
      ]
     },
     "execution_count": 14,
     "metadata": {},
     "output_type": "execute_result"
    }
   ],
   "source": [
    "l2\n"
   ]
  },
  {
   "cell_type": "code",
   "execution_count": 17,
   "id": "2e6e5d53",
   "metadata": {},
   "outputs": [
    {
     "data": {
      "text/plain": [
       "['Osman', 'Gunduz', 'savci', 'konor', 'kumral']"
      ]
     },
     "execution_count": 17,
     "metadata": {},
     "output_type": "execute_result"
    }
   ],
   "source": [
    "l1=[\"Osman\",\"Gunduz\",\"savci\",\"konor\",\"kumral\"]\n",
    "l1\n"
   ]
  },
  {
   "cell_type": "code",
   "execution_count": 18,
   "id": "f5c4efcd",
   "metadata": {},
   "outputs": [
    {
     "data": {
      "text/plain": [
       "['Ertugrl', 'Gundodo', 'Sungertekin', 'Bamsi', 'Turgut']"
      ]
     },
     "execution_count": 18,
     "metadata": {},
     "output_type": "execute_result"
    }
   ],
   "source": [
    "l2=[\"Ertugrl\",\"Gundodo\",\"Sungertekin\",\"Bamsi\",\"Turgut\"]\n",
    "l2"
   ]
  },
  {
   "cell_type": "code",
   "execution_count": 20,
   "id": "62a0106f",
   "metadata": {},
   "outputs": [
    {
     "name": "stdout",
     "output_type": "stream",
     "text": [
      "['Osman', 'Gunduz', 'savci', 'konor', 'kumral', 'Ertugrl', 'Gundodo', 'Sungertekin', 'Bamsi', 'Turgut']\n"
     ]
    }
   ],
   "source": [
    "final=l1+l2\n",
    "print(final)"
   ]
  },
  {
   "cell_type": "code",
   "execution_count": 21,
   "id": "5218a7df",
   "metadata": {},
   "outputs": [
    {
     "data": {
      "text/plain": [
       "['Osman', 'Gunduz', 'savci', 'konor', 'kumral']"
      ]
     },
     "execution_count": 21,
     "metadata": {},
     "output_type": "execute_result"
    }
   ],
   "source": [
    "l1\n"
   ]
  },
  {
   "cell_type": "code",
   "execution_count": 27,
   "id": "0c958182",
   "metadata": {},
   "outputs": [
    {
     "name": "stdout",
     "output_type": "stream",
     "text": [
      "['Osman', 'kongar', 'bayocha', 'bayocha', 'Gunduz', 'bayocha', 'bayocha', 'savci', 'konor', 'kumral']\n"
     ]
    }
   ],
   "source": [
    "l1.insert(1,\"kongar\")\n",
    "print(l1)"
   ]
  },
  {
   "cell_type": "code",
   "execution_count": 24,
   "id": "6dff2464",
   "metadata": {},
   "outputs": [
    {
     "data": {
      "text/plain": [
       "['Gunduz', 'bayocha']"
      ]
     },
     "execution_count": 24,
     "metadata": {},
     "output_type": "execute_result"
    }
   ],
   "source": [
    "l3=l1[1:3]\n",
    "l3"
   ]
  },
  {
   "cell_type": "code",
   "execution_count": 30,
   "id": "7515d3f7",
   "metadata": {},
   "outputs": [
    {
     "name": "stdout",
     "output_type": "stream",
     "text": [
      "['Osman', 'Gunduz', 'bayocha', 'bayocha', 'savci', 'konor', 'kumral']\n"
     ]
    }
   ],
   "source": [
    "del l1[1]\n",
    "print(l1)\n",
    "    "
   ]
  },
  {
   "cell_type": "code",
   "execution_count": 31,
   "id": "b9e63fd3",
   "metadata": {},
   "outputs": [],
   "source": [
    "#pop is also used ta remove"
   ]
  },
  {
   "cell_type": "code",
   "execution_count": null,
   "id": "bf6f6120",
   "metadata": {},
   "outputs": [],
   "source": []
  }
 ],
 "metadata": {
  "kernelspec": {
   "display_name": "Python 3",
   "language": "python",
   "name": "python3"
  },
  "language_info": {
   "codemirror_mode": {
    "name": "ipython",
    "version": 3
   },
   "file_extension": ".py",
   "mimetype": "text/x-python",
   "name": "python",
   "nbconvert_exporter": "python",
   "pygments_lexer": "ipython3",
   "version": "3.8.8"
  }
 },
 "nbformat": 4,
 "nbformat_minor": 5
}
